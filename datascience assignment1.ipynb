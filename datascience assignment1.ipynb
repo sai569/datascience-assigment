{
 "cells": [
  {
   "cell_type": "raw",
   "metadata": {},
   "source": [
    "Q1: RAINBOW\n"
   ]
  },
  {
   "cell_type": "code",
   "execution_count": 3,
   "metadata": {},
   "outputs": [
    {
     "name": "stdout",
     "output_type": "stream",
     "text": [
      "LETS UPGRADE\n"
     ]
    }
   ],
   "source": [
    "#question 2\n",
    "\n",
    "name=\"lets upgrade\"\n",
    "print(name.upper())"
   ]
  },
  {
   "cell_type": "code",
   "execution_count": 7,
   "metadata": {},
   "outputs": [
    {
     "name": "stdout",
     "output_type": "stream",
     "text": [
      "profit\n"
     ]
    }
   ],
   "source": [
    "#question3\n",
    "\n",
    "cp=40\n",
    "sp=70\n",
    "if cp<sp:\n",
    "    print(\"profit\")\n",
    "elif cp>sp:\n",
    "    print(\"loss\")\n",
    "else:\n",
    "    print(\"neither\")\n",
    "    \n",
    "    \n",
    "\n"
   ]
  },
  {
   "cell_type": "code",
   "execution_count": 20,
   "metadata": {},
   "outputs": [
    {
     "name": "stdout",
     "output_type": "stream",
     "text": [
      "3\n",
      "240\n"
     ]
    }
   ],
   "source": [
    "#question4\n",
    "\n",
    "n=int(input())\n",
    "result=n*80;\n",
    "print(result)\n",
    "\n"
   ]
  },
  {
   "cell_type": "code",
   "execution_count": null,
   "metadata": {},
   "outputs": [],
   "source": []
  }
 ],
 "metadata": {
  "kernelspec": {
   "display_name": "Python 3",
   "language": "python",
   "name": "python3"
  },
  "language_info": {
   "codemirror_mode": {
    "name": "ipython",
    "version": 3
   },
   "file_extension": ".py",
   "mimetype": "text/x-python",
   "name": "python",
   "nbconvert_exporter": "python",
   "pygments_lexer": "ipython3",
   "version": "3.7.6"
  }
 },
 "nbformat": 4,
 "nbformat_minor": 4
}
